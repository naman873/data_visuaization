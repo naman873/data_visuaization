{
 "cells": [
  {
   "cell_type": "code",
   "execution_count": 1,
   "metadata": {},
   "outputs": [],
   "source": [
    "### styles"
   ]
  },
  {
   "cell_type": "code",
   "execution_count": 2,
   "metadata": {},
   "outputs": [],
   "source": [
    "import matplotlib.pyplot as plt\n",
    "import matplotlib.dates as mdates\n",
    "from matplotlib import style\n",
    "import numpy as np\n",
    "import datetime as dt\n",
    "import urllib\n",
    "import matplotlib.ticker as mticker\n",
    "from mpl_finance import candlestick_ohlc"
   ]
  },
  {
   "cell_type": "code",
   "execution_count": null,
   "metadata": {},
   "outputs": [],
   "source": []
  },
  {
   "cell_type": "code",
   "execution_count": 49,
   "metadata": {},
   "outputs": [
    {
     "data": {
      "text/plain": [
       "'C:\\\\Users\\\\Naman\\\\anaconda3\\\\lib\\\\site-packages\\\\matplotlib\\\\pyplot.py'"
      ]
     },
     "execution_count": 49,
     "metadata": {},
     "output_type": "execute_result"
    }
   ],
   "source": [
    "plt.__file__  ### location for file\n",
    "## C:\\Users\\Naman\\anaconda3\\Lib\\site-packages\\matplotlib\\mpl-data\\stylelib    #### final location"
   ]
  },
  {
   "cell_type": "code",
   "execution_count": null,
   "metadata": {},
   "outputs": [],
   "source": []
  },
  {
   "cell_type": "code",
   "execution_count": 40,
   "metadata": {},
   "outputs": [],
   "source": [
    "#style.use('seaborn')\n",
    "#style.use('ggplot')\n",
    "style.use('tableau-colorblind10')\n",
    "#style.available"
   ]
  },
  {
   "cell_type": "code",
   "execution_count": 5,
   "metadata": {},
   "outputs": [],
   "source": [
    "def bytespdate2num(b):\n",
    "    return mdates.datestr2num(b.decode('utf-8'))"
   ]
  },
  {
   "cell_type": "code",
   "execution_count": 6,
   "metadata": {},
   "outputs": [],
   "source": [
    "def graph_data_sub3():\n",
    "    \n",
    "    plt.figure()\n",
    "    \n",
    "    ax1=plt.subplot2grid((1,1),(0,0))\n",
    "    \n",
    "    stock_price_url=\"https://pythonprogramming.net/yahoo_finance_replacement\"\n",
    "    source=urllib.request.urlopen(stock_price_url).read().decode()\n",
    "            \n",
    "    stock_data=[]\n",
    "    split_source=source.split(\"\\n\")\n",
    "    \n",
    "    for line in split_source:\n",
    "        if \"Date\" not in line:\n",
    "            stock_data.append(line)\n",
    "            \n",
    "    Date,Open,High,Low,Close,Adjusted_close,Volume=np.loadtxt(stock_data,delimiter=\",\",unpack=True,\n",
    "                                                             converters={0: bytespdate2num })\n",
    "    \n",
    "    \n",
    "    x=0\n",
    "    y=len(Date)\n",
    "    ohlc=[]\n",
    "    \n",
    "    if x<y:\n",
    "        append_me= Date[x] ,Open[x] ,High[x] ,Low[x] ,Close[x],Adjusted_close[x],Volume[x]\n",
    "        ohlc.append(append_me)\n",
    "        x+=1\n",
    "\n",
    "    \n",
    "    #candlestick_ohlc(ax1,ohlc,width=2,colorup='y',colordown='b')  ## when lines go up it is black and when lines goes down is become red\n",
    "    \n",
    "    plt.plot(Date,Close)\n",
    "    plt.plot(Date,Adjusted_close)\n",
    "    \n",
    "    for label in ax1.xaxis.get_ticklabels():\n",
    "        label.set_rotation(45)\n",
    "        \n",
    "    \n",
    "    ax1.xaxis.set_major_formatter(mdates.DateFormatter('%Y-%m-%d'))\n",
    "    #ax1.xaxis.set_major_locator(mticker.MaxNL)\n",
    "    \n",
    "    plt.xlabel(\"Dates\")\n",
    "    plt.ylabel(\"Close\")\n",
    "    plt.legend()\n",
    "    plt.subplots_adjust(left=0.09,bottom=0.20,right=0.70,top=0.90,wspace=0,hspace=0)  ## bottom can not be greater\n",
    "                                                                                    ## then top\n",
    "    plt.show()"
   ]
  },
  {
   "cell_type": "code",
   "execution_count": 7,
   "metadata": {},
   "outputs": [
    {
     "name": "stderr",
     "output_type": "stream",
     "text": [
      "No handles with labels found to put in legend.\n"
     ]
    },
    {
     "data": {
      "image/png": "[encoded data removed]",
      "text/plain": [
       "<Figure size 432x288 with 1 Axes>"
      ]
     },
     "metadata": {
      "needs_background": "light"
     },
     "output_type": "display_data"
    }
   ],
   "source": [
    "graph_data_sub3()"
   ]
  },
  {
   "cell_type": "code",
   "execution_count": null,
   "metadata": {},
   "outputs": [],
   "source": []
  },
  {
   "cell_type": "code",
   "execution_count": null,
   "metadata": {},
   "outputs": [],
   "source": []
  },
  {
   "cell_type": "code",
   "execution_count": null,
   "metadata": {},
   "outputs": [],
   "source": []
  },
  {
   "cell_type": "code",
   "execution_count": null,
   "metadata": {},
   "outputs": [],
   "source": []
  }
 ],
 "metadata": {
  "kernelspec": {
   "display_name": "Python 3",
   "language": "python",
   "name": "python3"
  },
  "language_info": {
   "codemirror_mode": {
    "name": "ipython",
    "version": 3
   },
   "file_extension": ".py",
   "mimetype": "text/x-python",
   "name": "python",
   "nbconvert_exporter": "python",
   "pygments_lexer": "ipython3",
   "version": "3.7.6"
  }
 },
 "nbformat": 4,
 "nbformat_minor": 4
}
